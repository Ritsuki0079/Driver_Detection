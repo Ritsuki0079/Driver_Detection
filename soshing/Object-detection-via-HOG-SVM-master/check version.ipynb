{
 "cells": [
  {
   "cell_type": "markdown",
   "id": "4a040f0e",
   "metadata": {},
   "source": [
    "1.Scikit-learn (For implementing SVM)\n",
    "\n",
    "2.Scikit-image (For HOG feature extraction)\n",
    "\n",
    "3.OpenCV (for testing)\n",
    "\n",
    "4.PIL (Image processing library)\n",
    "\n",
    "5.Numpy (matrix multiplication)\n",
    "\n",
    "6.Imutils for Non-maximum suppression"
   ]
  },
  {
   "cell_type": "code",
   "execution_count": 9,
   "id": "a7c1542e",
   "metadata": {},
   "outputs": [
    {
     "name": "stdout",
     "output_type": "stream",
     "text": [
      "0.24.1\n"
     ]
    }
   ],
   "source": [
    "import sklearn as sk\n",
    "print( sk.__version__ )"
   ]
  },
  {
   "cell_type": "code",
   "execution_count": 13,
   "id": "c690742c",
   "metadata": {},
   "outputs": [
    {
     "name": "stdout",
     "output_type": "stream",
     "text": [
      "0.18.1\n"
     ]
    }
   ],
   "source": [
    "from skimage import io, data as aha\n",
    "print( aha.__version__ )"
   ]
  },
  {
   "cell_type": "code",
   "execution_count": 10,
   "id": "a157a801",
   "metadata": {},
   "outputs": [
    {
     "name": "stdout",
     "output_type": "stream",
     "text": [
      "4.5.5\n"
     ]
    }
   ],
   "source": [
    "import cv2 as cv\n",
    "print( cv.__version__ )"
   ]
  },
  {
   "cell_type": "code",
   "execution_count": 11,
   "id": "3355438f",
   "metadata": {},
   "outputs": [
    {
     "name": "stdout",
     "output_type": "stream",
     "text": [
      "9.1.0\n"
     ]
    }
   ],
   "source": [
    "from PIL import ImageTk, Image as pp\n",
    "print( pp.__version__ )"
   ]
  },
  {
   "cell_type": "code",
   "execution_count": 14,
   "id": "8e4ba656",
   "metadata": {},
   "outputs": [
    {
     "name": "stdout",
     "output_type": "stream",
     "text": [
      "1.19.5\n"
     ]
    }
   ],
   "source": [
    "import numpy as np\n",
    "print( np.__version__ )"
   ]
  },
  {
   "cell_type": "code",
   "execution_count": 12,
   "id": "3361e653",
   "metadata": {},
   "outputs": [
    {
     "name": "stdout",
     "output_type": "stream",
     "text": [
      "0.5.4\n"
     ]
    }
   ],
   "source": [
    "import imutils as im\n",
    "print( im.__version__ )"
   ]
  },
  {
   "cell_type": "code",
   "execution_count": 15,
   "id": "a00793fd",
   "metadata": {},
   "outputs": [
    {
     "name": "stdout",
     "output_type": "stream",
     "text": [
      "1.6.2\n"
     ]
    }
   ],
   "source": [
    "import scipy as sc\n",
    "print( sc.__version__ )"
   ]
  },
  {
   "cell_type": "code",
   "execution_count": 21,
   "id": "d64be210",
   "metadata": {},
   "outputs": [
    {
     "name": "stdout",
     "output_type": "stream",
     "text": [
      "1.0.1\n"
     ]
    }
   ],
   "source": [
    "import joblib as job\n",
    "print( job.__version__ )"
   ]
  },
  {
   "cell_type": "code",
   "execution_count": null,
   "id": "b9c73ed8",
   "metadata": {},
   "outputs": [],
   "source": []
  }
 ],
 "metadata": {
  "kernelspec": {
   "display_name": "Python 3",
   "language": "python",
   "name": "python3"
  },
  "language_info": {
   "codemirror_mode": {
    "name": "ipython",
    "version": 3
   },
   "file_extension": ".py",
   "mimetype": "text/x-python",
   "name": "python",
   "nbconvert_exporter": "python",
   "pygments_lexer": "ipython3",
   "version": "3.8.8"
  }
 },
 "nbformat": 4,
 "nbformat_minor": 5
}
